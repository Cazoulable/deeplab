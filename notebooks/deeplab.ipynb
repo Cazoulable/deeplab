{
 "cells": [
  {
   "cell_type": "code",
   "execution_count": 24,
   "metadata": {},
   "outputs": [],
   "source": [
    "import math\n",
    "import numpy as np\n",
    "import os\n",
    "import sys\n",
    "import tensorflow as tf\n",
    "import pandas as pd"
   ]
  },
  {
   "cell_type": "markdown",
   "metadata": {},
   "source": [
    "Deeplab demo : https://github.com/tensorflow/models/blob/master/research/deeplab/deeplab_demo.ipynb\n",
    "\n"
   ]
  },
  {
   "cell_type": "code",
   "execution_count": 9,
   "metadata": {},
   "outputs": [],
   "source": [
    "PACKAGE_DIR = '/Users/simon.cazals/python/packages'\n",
    "\n",
    "sys.path.append(os.path.join(PACKAGE_DIR, 'models/research'))"
   ]
  },
  {
   "cell_type": "code",
   "execution_count": 10,
   "metadata": {},
   "outputs": [],
   "source": [
    "from deeplab.datasets import build_data\n"
   ]
  },
  {
   "cell_type": "code",
   "execution_count": 11,
   "metadata": {},
   "outputs": [],
   "source": [
    "image_name = '/Users/simon.cazals/Desktop/projects/steel/data/train_images/58ee62fd7.jpg'"
   ]
  },
  {
   "cell_type": "code",
   "execution_count": 52,
   "metadata": {},
   "outputs": [],
   "source": [
    "def rle_to_mask(rle_string, height, width):\n",
    "    if isinstance(rle_string, float) and math.isnan(rle_string):\n",
    "        return np.zeros((height, width), dtype=np.uint8)\n",
    "    \n",
    "    rle_int = list(map(int, rle_string.split(' ')))\n",
    "    rle_pair = np.array(rle_int).reshape(-1, 2)\n",
    "    \n",
    "    img = np.zeros(height * width, dtype=np.uint8)\n",
    "    for index, length in rle_pair:\n",
    "        index -= 1\n",
    "        img[index: index+length] = 1\n",
    "    \n",
    "    img = img.reshape(width, height)\n",
    "    img = img.T\n",
    "    return img\n",
    "\n",
    "\n",
    "def masks_to_mask(mask_list):\n",
    "    assert len(mask_list) == 4, \"The list of masks should be of length 4.\"\n",
    "    mask = np.zeros(mask_list[0].shape[:2], np.uint8)\n",
    "    \n",
    "    for i in range(4):\n",
    "        mask += (i + 1) * mask_list[i]\n",
    "\n",
    "    return mask"
   ]
  },
  {
   "cell_type": "code",
   "execution_count": 53,
   "metadata": {},
   "outputs": [],
   "source": [
    "image_reader = build_data.ImageReader('jpeg', channels=3)\n",
    "label_reader = build_data.ImageReader('png', channels=1)\n",
    "\n",
    "image_data = tf.gfile.FastGFile(image_name, 'rb').read()\n",
    "height, width = image_reader.read_image_dims(image_data)"
   ]
  },
  {
   "cell_type": "code",
   "execution_count": 54,
   "metadata": {},
   "outputs": [
    {
     "name": "stdout",
     "output_type": "stream",
     "text": [
      "256 1600\n"
     ]
    }
   ],
   "source": [
    "print(height, width)"
   ]
  },
  {
   "cell_type": "code",
   "execution_count": 61,
   "metadata": {},
   "outputs": [
    {
     "name": "stdout",
     "output_type": "stream",
     "text": [
      "b'\\xff\\xd8\\xff\\xe0\\x00\\x10JFIF\\x00\\x01\\x01\\x00\\x00\\x01\\x00\\x01\\x00\\x00\\xff\\xdb\\x00C\\x00\\x03\\x02\\x02\\x03\\x02\\x02\\x03\\x03\\x03\\x03\\x04\\x03\\x03\\x04\\x05\\x08\\x05\\x05\\x04\\x04\\x05\\n\\x07\\x07\\x06\\x08\\x0c\\n\\x0c\\x0c\\x0b\\n\\x0b\\x0b\\r\\x0e\\x12\\x10\\r\\x0e\\x11\\x0e\\x0b\\x0b\\x10\\x16\\x10\\x11\\x13\\x14\\x15\\x15\\x15\\x0c\\x0f\\x17\\x18\\x16\\x14\\x18\\x12\\x14\\x15\\x14\\xff\\xdb\\x00C\\x01\\x03\\x04\\x04\\x05\\x04\\x05'\n"
     ]
    }
   ],
   "source": [
    "print(image_data[:100])"
   ]
  },
  {
   "cell_type": "code",
   "execution_count": 70,
   "metadata": {},
   "outputs": [
    {
     "data": {
      "text/plain": [
       "b'\\xff\\xd8\\xff\\xe0\\x00\\x10JFIF\\x00\\x01\\x01\\x00\\x00\\x01\\x00\\x01\\x00\\x00\\xff\\xdb\\x00C\\x00\\x08\\x06\\x06\\x07\\x06\\x05\\x08\\x07\\x07\\x07\\t\\t\\x08\\n\\x0c\\x14\\r\\x0c\\x0b\\x0b\\x0c\\x19\\x12\\x13\\x0f\\x14\\x1d\\x1a\\x1f\\x1e\\x1d\\x1a\\x1c\\x1c $.\\' \",#\\x1c\\x1c(7),01444\\x1f\\'9=82<.342\\xff\\xdb\\x00C\\x01\\t\\t\\t\\x0c\\x0b\\x0c'"
      ]
     },
     "execution_count": 70,
     "metadata": {},
     "output_type": "execute_result"
    }
   ],
   "source": [
    "from PIL import Image\n",
    "import io\n",
    "\n",
    "image = Image.open(image_name)\n",
    "image_bytes = io.BytesIO()\n",
    "image.save(image_bytes, format='jpeg')\n",
    "image_bytes = image_bytes.getvalue()\n",
    "image_bytes[:100]"
   ]
  },
  {
   "cell_type": "code",
   "execution_count": 67,
   "metadata": {},
   "outputs": [
    {
     "data": {
      "text/plain": [
       "'<PIL.JpegImagePlugin.JpegImageFile image mode=RGB size=1600x256 at 0x12D0E0D30>'"
      ]
     },
     "execution_count": 67,
     "metadata": {},
     "output_type": "execute_result"
    }
   ],
   "source": []
  },
  {
   "cell_type": "code",
   "execution_count": null,
   "metadata": {},
   "outputs": [],
   "source": []
  },
  {
   "cell_type": "code",
   "execution_count": 56,
   "metadata": {},
   "outputs": [],
   "source": [
    "label_file = '/Users/simon.cazals/Desktop/projects/steel/data/train.csv'\n",
    "labels_df = pd.read_csv(label_file)\n",
    "image_class_id_to_rle_mask = dict(zip(labels_df.ImageId_ClassId, labels_df.EncodedPixels))"
   ]
  },
  {
   "cell_type": "code",
   "execution_count": 57,
   "metadata": {},
   "outputs": [],
   "source": [
    "image_id = image_name.split('/')[-1].split('.')[0]\n",
    "rle_masks = [image_class_id_to_rle_mask['{}.jpg_{}'.format(image_id, i+1)] for i in range(4)]"
   ]
  },
  {
   "cell_type": "code",
   "execution_count": 58,
   "metadata": {},
   "outputs": [],
   "source": [
    "masks = [rle_to_mask(rle_mask, height, width) for rle_mask in rle_masks]\n",
    "mask = masks_to_mask(masks)"
   ]
  },
  {
   "cell_type": "code",
   "execution_count": 59,
   "metadata": {},
   "outputs": [
    {
     "name": "stdout",
     "output_type": "stream",
     "text": [
      "0 0\n",
      "1 0\n",
      "2 1\n",
      "3 0\n"
     ]
    }
   ],
   "source": [
    "for i in range(4):\n",
    "    print(i, np.max(masks[i]))"
   ]
  },
  {
   "cell_type": "code",
   "execution_count": 60,
   "metadata": {},
   "outputs": [
    {
     "data": {
      "text/plain": [
       "3"
      ]
     },
     "execution_count": 60,
     "metadata": {},
     "output_type": "execute_result"
    }
   ],
   "source": [
    "np.max(mask)"
   ]
  },
  {
   "cell_type": "code",
   "execution_count": 71,
   "metadata": {},
   "outputs": [],
   "source": [
    "from PIL import Image\n",
    "import io\n",
    "\n",
    "def numpy_to_bytes(image_np, image_format):\n",
    "    image = Image.fromarray(image_np)\n",
    "    image_bytes = io.BytesIO()\n",
    "    image.save(image_bytes, format=image_format)\n",
    "    return image_bytes.getvalue()"
   ]
  },
  {
   "cell_type": "code",
   "execution_count": null,
   "metadata": {},
   "outputs": [],
   "source": [
    "Image.fromarray(np.uint8(cm.gist_earth(myarray)*255))"
   ]
  },
  {
   "cell_type": "code",
   "execution_count": null,
   "metadata": {},
   "outputs": [],
   "source": []
  }
 ],
 "metadata": {
  "kernelspec": {
   "display_name": "Python 3",
   "language": "python",
   "name": "python3"
  },
  "language_info": {
   "codemirror_mode": {
    "name": "ipython",
    "version": 3
   },
   "file_extension": ".py",
   "mimetype": "text/x-python",
   "name": "python",
   "nbconvert_exporter": "python",
   "pygments_lexer": "ipython3",
   "version": "3.7.3"
  }
 },
 "nbformat": 4,
 "nbformat_minor": 2
}
